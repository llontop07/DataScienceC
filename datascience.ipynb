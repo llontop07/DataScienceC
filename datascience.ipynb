{
 "cells": [
  {
   "cell_type": "markdown",
   "id": "3a07513b-ab9e-4607-813b-84542e715616",
   "metadata": {},
   "source": [
    "<h1> Data Science Tools and Ecosystem </h1>"
   ]
  },
  {
   "cell_type": "markdown",
   "id": "b9725221-3b25-4c00-8721-2feae568f417",
   "metadata": {},
   "source": [
    "<h2> In this notebook, Data Science Tools and Ecosystem are summarized. </h2>"
   ]
  },
  {
   "cell_type": "markdown",
   "id": "7aa28387-9bb3-4d37-ac53-faa29e852b45",
   "metadata": {},
   "source": [
    "### Some of the popular languages that Data Scientists use are:"
   ]
  },
  {
   "cell_type": "markdown",
   "id": "a41bd935-d6c9-4eaf-a8e9-95d6419a636e",
   "metadata": {},
   "source": [
    "```markdown\n",
    "1. Python\n",
    "2. R\n",
    "3. SQL\n",
    "4. Julia\n",
    "5. Scala\n",
    "```"
   ]
  },
  {
   "cell_type": "markdown",
   "id": "b5c54764-9983-4b49-a68a-a5f0d31851fc",
   "metadata": {},
   "source": [
    "**Objectives:**\n",
    "- List popular languages for Data Science\n",
    "- Introduce commonly used libraries in Data Science\n",
    "- Present Data Science tools\n",
    "- Provide examples of evaluating arithmetic expressions in Python\n",
    "- Perform unit conversion in Python\n"
   ]
  },
  {
   "cell_type": "markdown",
   "id": "8fd2071b-f1fe-4b9b-a1f0-b7947fd41218",
   "metadata": {},
   "source": [
    "### Some of the commonly used libraries used by Data Scientists include:"
   ]
  },
  {
   "cell_type": "markdown",
   "id": "fbb67c28-e2dc-4ddc-b8cd-39498df4c050",
   "metadata": {},
   "source": [
    "```markdown\n",
    "1. Pandas\n",
    "2. NumPy\n",
    "3. Scikit-learn\n",
    "4. Matplotlib\n",
    "```\n"
   ]
  },
  {
   "cell_type": "markdown",
   "id": "6900e2b2-c2be-4a7f-9439-6b2025056765",
   "metadata": {},
   "source": [
    "| Data Science Tools   |\n",
    "|----------------------|\n",
    "| Jupyter Notebook     |\n",
    "| RStudio              |\n",
    "| VS Code with Python  |\n"
   ]
  },
  {
   "cell_type": "markdown",
   "id": "2c53bd7c-2ecb-487a-af34-b23801c3a1c2",
   "metadata": {},
   "source": [
    "### Below are a few examples of evaluating arithmetic expressions in Python."
   ]
  },
  {
   "cell_type": "code",
   "execution_count": null,
   "id": "1a50c559-d213-4551-aea3-670dd7a8ffc7",
   "metadata": {},
   "outputs": [],
   "source": [
    "# This is a simple arithmetic expression to multiply then add integers."
   ]
  },
  {
   "cell_type": "code",
   "execution_count": 12,
   "id": "4f09d6be-bca2-4f69-88be-4dc7fdc42acf",
   "metadata": {},
   "outputs": [
    {
     "data": {
      "text/plain": [
       "17"
      ]
     },
     "execution_count": 12,
     "metadata": {},
     "output_type": "execute_result"
    }
   ],
   "source": [
    "(3*4)+5"
   ]
  },
  {
   "cell_type": "code",
   "execution_count": null,
   "id": "dd70de1f-2c9e-4989-ba15-4de6b1d2b869",
   "metadata": {},
   "outputs": [],
   "source": [
    "# This will convert 200 minutes to hours by dividing by 60."
   ]
  },
  {
   "cell_type": "code",
   "execution_count": 19,
   "id": "9b872d73-eb25-441a-ac05-3e828fe0c96f",
   "metadata": {},
   "outputs": [
    {
     "data": {
      "text/plain": [
       "3.3333333333333335"
      ]
     },
     "execution_count": 19,
     "metadata": {},
     "output_type": "execute_result"
    }
   ],
   "source": [
    "200 / 60"
   ]
  },
  {
   "cell_type": "markdown",
   "id": "eec2170f-a5e0-4cab-8803-a7a60bce1890",
   "metadata": {},
   "source": [
    "## Author\n",
    "Ariana Llontop\n"
   ]
  },
  {
   "cell_type": "code",
   "execution_count": null,
   "id": "18b11a6e-fbfe-4303-8bea-2ca957521e67",
   "metadata": {},
   "outputs": [],
   "source": []
  }
 ],
 "metadata": {
  "kernelspec": {
   "display_name": "Python 3 (ipykernel)",
   "language": "python",
   "name": "python3"
  },
  "language_info": {
   "codemirror_mode": {
    "name": "ipython",
    "version": 3
   },
   "file_extension": ".py",
   "mimetype": "text/x-python",
   "name": "python",
   "nbconvert_exporter": "python",
   "pygments_lexer": "ipython3",
   "version": "3.12.2"
  }
 },
 "nbformat": 4,
 "nbformat_minor": 5
}
